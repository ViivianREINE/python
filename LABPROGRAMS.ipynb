{
  "nbformat": 4,
  "nbformat_minor": 0,
  "metadata": {
    "colab": {
      "provenance": [],
      "authorship_tag": "ABX9TyMWzfCTRD9QijTaY5v8iPjc",
      "include_colab_link": true
    },
    "kernelspec": {
      "name": "python3",
      "display_name": "Python 3"
    },
    "language_info": {
      "name": "python"
    }
  },
  "cells": [
    {
      "cell_type": "markdown",
      "metadata": {
        "id": "view-in-github",
        "colab_type": "text"
      },
      "source": [
        "<a href=\"https://colab.research.google.com/github/ViivianREINE/python/blob/main/LABPROGRAMS.ipynb\" target=\"_parent\"><img src=\"https://colab.research.google.com/assets/colab-badge.svg\" alt=\"Open In Colab\"/></a>"
      ]
    },
    {
      "cell_type": "code",
      "execution_count": 3,
      "metadata": {
        "colab": {
          "base_uri": "https://localhost:8080/"
        },
        "id": "r7sr-PT40Kwb",
        "outputId": "3f338a33-0244-425a-da38-465260c5b372"
      },
      "outputs": [
        {
          "output_type": "stream",
          "name": "stdout",
          "text": [
            "Enter the number:7\n",
            "Max Prime factor: 7\n"
          ]
        }
      ],
      "source": [
        "n=input (\"Enter the number:\")\n",
        "n=int(n)\n",
        "maxPrime =-1\n",
        "while n%2==0:\n",
        "  maxPrime=n\n",
        "  n=n/2\n",
        "  print(\"N:\",n)\n",
        "\n",
        "for i in range (3, int(n**0.5)+1,2):\n",
        "  while n%i==0:\n",
        "    maxPrime=1\n",
        "    n = n/i\n",
        "\n",
        "if n>2:\n",
        "   maxPrime=n\n",
        "   print(\"Max Prime factor:\", int(maxPrime))"
      ]
    },
    {
      "cell_type": "code",
      "source": [
        "a=-16\n",
        "b=int(input(\"Enter the velocity:\"))\n",
        "pHeight = float(input(\"Enter the initial height:\"))\n",
        "t=float(-b/(2*a))\n",
        "print(\"Time:\",t,\"seconds\")\n",
        "h=(a*(t**2))+(b*t)\n",
        "print(\"Height is:\",h,\"feet\")\n",
        "h=h+ pHeight\n",
        "print(\"Total Height Is:\",h,\"feet\")"
      ],
      "metadata": {
        "colab": {
          "base_uri": "https://localhost:8080/"
        },
        "id": "Oxxq70i_2xvJ",
        "outputId": "fbd29f86-1649-4624-d07a-87dd58a5d78a"
      },
      "execution_count": 6,
      "outputs": [
        {
          "output_type": "stream",
          "name": "stdout",
          "text": [
            "Enter the velocity:77\n",
            "Enter the initial height:7\n",
            "Time: 2.40625 seconds\n",
            "Height is: 92.640625 feet\n",
            "Total Height Is: 99.640625 feet\n"
          ]
        }
      ]
    },
    {
      "cell_type": "code",
      "source": [
        "n=int(input(\"Enter number of series:\"))\n",
        "fiblist=[0,1]\n",
        "for i in range (0,n):\n",
        "  fiblist.append(fiblist[i] + fiblist[i+1])\n",
        "  print(\"Series are\",fiblist)\n",
        "  gratio=[fiblist[i]/float(fiblist[i-1])for i in range(2,len(fiblist))]\n",
        "  print(\"Golden ratio:\",gratio)"
      ],
      "metadata": {
        "colab": {
          "base_uri": "https://localhost:8080/"
        },
        "id": "gub181jk3_ls",
        "outputId": "92a114e5-4737-4a3e-a0c0-29ff95431cbc"
      },
      "execution_count": 7,
      "outputs": [
        {
          "output_type": "stream",
          "name": "stdout",
          "text": [
            "Enter number of series:2\n",
            "Series are [0, 1, 1]\n",
            "Golden ratio: [1.0]\n",
            "Series are [0, 1, 1, 2]\n",
            "Golden ratio: [1.0, 2.0]\n"
          ]
        }
      ]
    },
    {
      "cell_type": "code",
      "source": [
        "n=int(input(\"Enter number of series:\"))\n",
        "fiblist=[0,1]\n",
        "for i in range (0,n):\n",
        "  fiblist.append(fiblist[i] + fiblist[i+1])\n",
        "  print(\"Series are\",fiblist)\n",
        "  gratio=[fiblist[i]/float(fiblist[i-1])for i in range(2,len(fiblist))]\n",
        "  print(\"Golden ratio:\",gratio)\n",
        ""
      ],
      "metadata": {
        "colab": {
          "base_uri": "https://localhost:8080/"
        },
        "id": "wHxqLLWY5Yrl",
        "outputId": "1235b0d5-ee55-4aac-9882-cd64c5e45bc2"
      },
      "execution_count": 10,
      "outputs": [
        {
          "output_type": "stream",
          "name": "stdout",
          "text": [
            "Enter number of series:7\n",
            "Series are [0, 1, 1]\n",
            "Golden ratio: [1.0]\n",
            "Series are [0, 1, 1, 2]\n",
            "Golden ratio: [1.0, 2.0]\n",
            "Series are [0, 1, 1, 2, 3]\n",
            "Golden ratio: [1.0, 2.0, 1.5]\n",
            "Series are [0, 1, 1, 2, 3, 5]\n",
            "Golden ratio: [1.0, 2.0, 1.5, 1.6666666666666667]\n",
            "Series are [0, 1, 1, 2, 3, 5, 8]\n",
            "Golden ratio: [1.0, 2.0, 1.5, 1.6666666666666667, 1.6]\n",
            "Series are [0, 1, 1, 2, 3, 5, 8, 13]\n",
            "Golden ratio: [1.0, 2.0, 1.5, 1.6666666666666667, 1.6, 1.625]\n",
            "Series are [0, 1, 1, 2, 3, 5, 8, 13, 21]\n",
            "Golden ratio: [1.0, 2.0, 1.5, 1.6666666666666667, 1.6, 1.625, 1.6153846153846154]\n"
          ]
        }
      ]
    },
    {
      "cell_type": "code",
      "source": [
        "n=int(input(\"Enter number of series:\"))\n",
        "fiblist=[0,1]\n",
        "for i in range (0,n):\n",
        "  fiblist.append(fiblist[i] + fiblist[i+1])\n",
        "  print(\"Series are\",fiblist)\n",
        "  gratio=[fiblist[i]/float(fiblist[i-1])for i in range(2,len(fiblist))]\n",
        "  print(\"Golden ratio:\",gratio)"
      ],
      "metadata": {
        "colab": {
          "base_uri": "https://localhost:8080/"
        },
        "id": "zORE9kH25dWT",
        "outputId": "934a4358-94a5-473c-ec74-1983a6f08675"
      },
      "execution_count": 9,
      "outputs": [
        {
          "output_type": "stream",
          "name": "stdout",
          "text": [
            "Enter number of series:2\n",
            "Series are [0, 1, 1]\n",
            "Golden ratio: [1.0]\n",
            "Series are [0, 1, 1, 2]\n",
            "Golden ratio: [1.0, 2.0]\n"
          ]
        }
      ]
    }
  ]
}