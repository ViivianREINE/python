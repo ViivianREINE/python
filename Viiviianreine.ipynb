{
  "nbformat": 4,
  "nbformat_minor": 0,
  "metadata": {
    "colab": {
      "provenance": []
    },
    "kernelspec": {
      "name": "python3",
      "display_name": "Python 3"
    },
    "language_info": {
      "name": "python"
    }
  },
  "cells": [
    {
      "cell_type": "code",
      "execution_count": null,
      "metadata": {
        "id": "TfWWBVYcAaGb",
        "colab": {
          "base_uri": "https://localhost:8080/"
        },
        "outputId": "1038884c-3a08-49a4-dfde-58f3c1ce0127"
      },
      "outputs": [
        {
          "output_type": "stream",
          "name": "stdout",
          "text": [
            "Hello Viiviian\n",
            "Hello Reine\n"
          ]
        }
      ],
      "source": [
        "print (\"Hello Viiviian\")\n",
        "print (\"Hello Reine\")"
      ]
    },
    {
      "cell_type": "code",
      "source": [
        "print (\"Hello World!\")"
      ],
      "metadata": {
        "colab": {
          "base_uri": "https://localhost:8080/"
        },
        "id": "aPLPNcV6tPqg",
        "outputId": "37c78cbc-8273-4204-d637-ffc9221fef81"
      },
      "execution_count": null,
      "outputs": [
        {
          "output_type": "stream",
          "name": "stdout",
          "text": [
            "Hello World!\n"
          ]
        }
      ]
    },
    {
      "cell_type": "code",
      "source": [
        "name = \"Viiviian\"\n",
        "age = 18\n",
        "name = \"Tae\"\n",
        "age = 16\n",
        "\n",
        "is_adult = False\n",
        "print(name)\n",
        "print(age)"
      ],
      "metadata": {
        "colab": {
          "base_uri": "https://localhost:8080/"
        },
        "id": "dPfcABNst9Zq",
        "outputId": "df2b5f60-9734-429d-fb68-c42451bd1aef"
      },
      "execution_count": null,
      "outputs": [
        {
          "output_type": "stream",
          "name": "stdout",
          "text": [
            "Tae\n",
            "16\n"
          ]
        }
      ]
    },
    {
      "cell_type": "code",
      "source": [
        "name = \"Tony Stark\"\n",
        "age = 51\n",
        "is_genius = True\n",
        "print(name)\n",
        "print(age)\n",
        "print(\"is a genius\")"
      ],
      "metadata": {
        "colab": {
          "base_uri": "https://localhost:8080/"
        },
        "id": "m8QnWlxGvOdS",
        "outputId": "582d06d2-e514-4973-87fa-c4b01d302622"
      },
      "execution_count": null,
      "outputs": [
        {
          "output_type": "stream",
          "name": "stdout",
          "text": [
            "Tony Stark\n",
            "51\n",
            "is a genius\n"
          ]
        }
      ]
    },
    {
      "cell_type": "code",
      "source": [
        "name =input(\"What is your name?\")\n",
        "print(\"Hello \" +  name)"
      ],
      "metadata": {
        "colab": {
          "base_uri": "https://localhost:8080/"
        },
        "id": "2LbdldgCwPwH",
        "outputId": "087f6e13-c297-4c14-94f9-f3b5cfce1e6c"
      },
      "execution_count": null,
      "outputs": [
        {
          "output_type": "stream",
          "name": "stdout",
          "text": [
            "What is your name?Viiviian\n",
            "Hello Viiviian\n"
          ]
        }
      ]
    },
    {
      "cell_type": "code",
      "source": [
        "input(\"Who is your favourite idol?\")\n",
        "print(\"My favourite idol is \"+ name)"
      ],
      "metadata": {
        "colab": {
          "base_uri": "https://localhost:8080/"
        },
        "id": "x0mt6Qp1xJOX",
        "outputId": "e5e580ba-5d74-4506-9579-3f86f7429e7e"
      },
      "execution_count": null,
      "outputs": [
        {
          "output_type": "stream",
          "name": "stdout",
          "text": [
            "Who is your favourite idol?Kim Taehyung\n",
            "My favourite idol is Kim Taehyung\n"
          ]
        }
      ]
    },
    {
      "cell_type": "code",
      "source": [
        "old_age = input(\" Enter your old age :\")\n",
        "new_age = int(old_age) +2\n",
        "print(new_age)"
      ],
      "metadata": {
        "colab": {
          "base_uri": "https://localhost:8080/"
        },
        "id": "QAP88zXAzaCv",
        "outputId": "286d3c37-f8db-4b5d-88e9-d8b8c5bff7f6"
      },
      "execution_count": null,
      "outputs": [
        {
          "output_type": "stream",
          "name": "stdout",
          "text": [
            " Enter your old age :16\n",
            "18\n"
          ]
        }
      ]
    },
    {
      "cell_type": "code",
      "source": [
        "number = 18\n",
        "print(float(18))"
      ],
      "metadata": {
        "colab": {
          "base_uri": "https://localhost:8080/"
        },
        "id": "MrYRQyMBzw9S",
        "outputId": "da4e5435-c93e-475d-ea6d-df3bd91a9387"
      },
      "execution_count": null,
      "outputs": [
        {
          "output_type": "stream",
          "name": "stdout",
          "text": [
            "18.0\n"
          ]
        }
      ]
    },
    {
      "cell_type": "code",
      "source": [
        "number = 18\n",
        "print(str(18))"
      ],
      "metadata": {
        "colab": {
          "base_uri": "https://localhost:8080/"
        },
        "id": "07gKP3_m0J1f",
        "outputId": "1fd978b2-2652-4037-dd2c-9754bc0223a5"
      },
      "execution_count": null,
      "outputs": [
        {
          "output_type": "stream",
          "name": "stdout",
          "text": [
            "18\n"
          ]
        }
      ]
    },
    {
      "cell_type": "code",
      "source": [
        "number= 18\n",
        "print(bool(18))"
      ],
      "metadata": {
        "colab": {
          "base_uri": "https://localhost:8080/"
        },
        "id": "khpCYxyV0UtB",
        "outputId": "0d3a565d-2eb0-4eb1-8ea2-d5a0f0d3c7d8"
      },
      "execution_count": null,
      "outputs": [
        {
          "output_type": "stream",
          "name": "stdout",
          "text": [
            "True\n"
          ]
        }
      ]
    },
    {
      "cell_type": "code",
      "source": [
        "number = 18\n",
        "print(bool(16))"
      ],
      "metadata": {
        "colab": {
          "base_uri": "https://localhost:8080/"
        },
        "id": "_kej-yQr0c3p",
        "outputId": "baee356a-e0be-40b0-8a48-aad64824254c"
      },
      "execution_count": null,
      "outputs": [
        {
          "output_type": "stream",
          "name": "stdout",
          "text": [
            "True\n"
          ]
        }
      ]
    },
    {
      "cell_type": "code",
      "source": [
        "first = input(\"Enter first number:\")\n",
        "second = input(\"Enter second number:\")\n",
        "sum = int(first) + int(second)\n",
        "print(sum)\n"
      ],
      "metadata": {
        "colab": {
          "base_uri": "https://localhost:8080/"
        },
        "id": "I9npXBEI0mRG",
        "outputId": "707afb90-499b-413f-93cc-a3b0a5d25466"
      },
      "execution_count": null,
      "outputs": [
        {
          "output_type": "stream",
          "name": "stdout",
          "text": [
            "Enter first number:12\n",
            "Enter second number:30\n",
            "42\n"
          ]
        }
      ]
    },
    {
      "cell_type": "code",
      "source": [
        "first = input(\"Enter first number:\")\n",
        "second = input(\"Enter second number:\")\n",
        "sum = first + second\n",
        "print(sum)"
      ],
      "metadata": {
        "colab": {
          "base_uri": "https://localhost:8080/"
        },
        "id": "7T1T5_1q1QRX",
        "outputId": "b4823e5e-0fec-492d-d188-3cab0fa3592a"
      },
      "execution_count": null,
      "outputs": [
        {
          "output_type": "stream",
          "name": "stdout",
          "text": [
            "Enter first number:12\n",
            "Enter second number:30\n",
            "1230\n"
          ]
        }
      ]
    },
    {
      "cell_type": "code",
      "source": [
        "first = input(\"Enter first number:\")\n",
        "second = input(\"Enter second number:\")\n",
        "sum = int(first) + int(second)\n",
        "print(\"the sum is :\" + str(sum))"
      ],
      "metadata": {
        "colab": {
          "base_uri": "https://localhost:8080/"
        },
        "id": "tEIJFPqF1_2W",
        "outputId": "3c059ac7-fe4b-4e59-b48f-c41758bab679"
      },
      "execution_count": null,
      "outputs": [
        {
          "output_type": "stream",
          "name": "stdout",
          "text": [
            "Enter first number:12\n",
            "Enter second number:30\n",
            "the sum is :42\n"
          ]
        }
      ]
    },
    {
      "cell_type": "code",
      "source": [
        "#operations on string\n",
        "name = \"ViiViian\"\n",
        "print(name.upper())\n",
        "print(name)\n",
        "print(name.lower())\n",
        "print(name.find(\"V\")) #0\n",
        "print(name.find(\"i\")) #1\n",
        "print(name.find(\"a\")) #6\n",
        "print(name.find(\"r\")) #-1 because it is not present at any position\n",
        "print(name.find(\"an\"))\n",
        "print(name.replace(\"ViiViian\", \"Reine\"))\n",
        "print(\"V\" in name)\n",
        "print(\"Reine\" in name)"
      ],
      "metadata": {
        "colab": {
          "base_uri": "https://localhost:8080/"
        },
        "id": "Kc8jlQ5R3Egx",
        "outputId": "91376e0d-232a-4a55-deff-235058000883"
      },
      "execution_count": null,
      "outputs": [
        {
          "output_type": "stream",
          "name": "stdout",
          "text": [
            "VIIVIIAN\n",
            "ViiViian\n",
            "viiviian\n",
            "0\n",
            "1\n",
            "6\n",
            "-1\n",
            "6\n",
            "Reine\n",
            "True\n",
            "False\n"
          ]
        }
      ]
    },
    {
      "cell_type": "code",
      "source": [
        "print(5+2)  #arithmetic operator\n",
        "print(5-2)\n",
        "print(5*2)\n",
        "print(5/2)\n",
        "print(5//2)\n",
        "print(5%2)\n",
        "print(5**2)\n"
      ],
      "metadata": {
        "colab": {
          "base_uri": "https://localhost:8080/"
        },
        "id": "QiNhEepF422N",
        "outputId": "5952b7fa-50fe-4c4f-f986-d497105784af"
      },
      "execution_count": null,
      "outputs": [
        {
          "output_type": "stream",
          "name": "stdout",
          "text": [
            "7\n",
            "3\n",
            "10\n",
            "2.5\n",
            "2\n",
            "1\n",
            "25\n"
          ]
        }
      ]
    },
    {
      "cell_type": "code",
      "source": [
        "i = 5 #shortcuts\n",
        "i = i + 2\n",
        "print(i)\n",
        "i+= 2\n",
        "print(i)\n",
        "i-= 2\n",
        "print(i)\n",
        "i*= 2\n",
        "print(i)\n",
        "i/= 2\n",
        "print(i)\n",
        "i//= 2\n",
        "print(i)"
      ],
      "metadata": {
        "colab": {
          "base_uri": "https://localhost:8080/"
        },
        "id": "kIs9tmXQ7GPb",
        "outputId": "8fc15884-01b3-48b0-9479-f87a023c13d4"
      },
      "execution_count": null,
      "outputs": [
        {
          "output_type": "stream",
          "name": "stdout",
          "text": [
            "7\n",
            "9\n",
            "7\n",
            "14\n",
            "7.0\n",
            "3.0\n"
          ]
        }
      ]
    },
    {
      "cell_type": "code",
      "source": [
        "result = 2 +3 * 5 #Operator_Precedence\n",
        "print(result)\n",
        "result = (2 +3) * 5\n",
        "print(result)\n",
        "result = 2 +3 / 5\n",
        "print(result)\n",
        "result = (2 +3) / 5\n",
        "print(result)"
      ],
      "metadata": {
        "colab": {
          "base_uri": "https://localhost:8080/"
        },
        "id": "kUetqXQS7u9Q",
        "outputId": "30fb0991-fad3-496d-f82a-38754d4a064c"
      },
      "execution_count": null,
      "outputs": [
        {
          "output_type": "stream",
          "name": "stdout",
          "text": [
            "17\n",
            "25\n",
            "2.6\n",
            "1.0\n"
          ]
        }
      ]
    },
    {
      "cell_type": "code",
      "source": [
        "#comments\n",
        "#if we want to use or add normal sentence in python we use # before the sentence which converts it into a commmet\n",
        "#example\n",
        "#taking input\n",
        "first = input(\"Enter first number:\")\n",
        "second = input(\"Enter second number:\")\n",
        "#calculate sum of two numbers\n",
        "sum = int(first) + int(second)\n",
        "print(\"the sum is :\" + str(sum))"
      ],
      "metadata": {
        "colab": {
          "base_uri": "https://localhost:8080/"
        },
        "id": "uh7Ty_s19yry",
        "outputId": "f19312c3-6513-4d63-930c-d93fa1aa1521"
      },
      "execution_count": null,
      "outputs": [
        {
          "output_type": "stream",
          "name": "stdout",
          "text": [
            "Enter first number:12\n",
            "Enter second number:30\n",
            "the sum is :42\n"
          ]
        }
      ]
    },
    {
      "cell_type": "code",
      "source": [
        "#comparison operators\n",
        "#in python we have certain operators to compare , these operators return the boolean values\n",
        "print (3>2)\n",
        "print (3<2)\n",
        "print (3>=2)\n",
        "print (3<=2)\n",
        "print (3==2)\n",
        "print (3==3)\n",
        "print (3!=2)\n",
        "print (3!=3)\n"
      ],
      "metadata": {
        "colab": {
          "base_uri": "https://localhost:8080/"
        },
        "id": "RzWF1Uue_M2z",
        "outputId": "37d3f8fa-c9aa-46da-a9e3-62cbfa15ba9e"
      },
      "execution_count": null,
      "outputs": [
        {
          "output_type": "stream",
          "name": "stdout",
          "text": [
            "True\n",
            "False\n",
            "True\n",
            "False\n",
            "False\n",
            "True\n",
            "True\n",
            "False\n"
          ]
        }
      ]
    },
    {
      "cell_type": "code",
      "source": [
        "#Logical Operators\n",
        "# in python there are three logical operators 1. OR operator:- IN THIS IF 2 CONDITIONS ARE GIVEN AND ATLEAST OONE IS TRUE, IT PRINTS TRUE OTHERWISE IF BOTH ARE FALSE ONLY THEN IT PRINTS FALSE\n",
        "print(2>3 or 2>1)\n",
        "#2. and operator: if both conditions are true only then the output is TRUE otherwise in all other cases the o/p is false\n",
        "print(3>2 and 3>4)\n",
        "print(3>2 and 2>1)\n",
        "#3. NOT operator :- changes true to false and false to true\n",
        "print(not 3>4)\n",
        "print(not 4>3)"
      ],
      "metadata": {
        "colab": {
          "base_uri": "https://localhost:8080/"
        },
        "id": "JZy7TNNBASZ5",
        "outputId": "a7afe623-9f7e-418f-bf82-a815b5d5cf2c"
      },
      "execution_count": null,
      "outputs": [
        {
          "output_type": "stream",
          "name": "stdout",
          "text": [
            "True\n",
            "False\n",
            "True\n",
            "True\n",
            "False\n"
          ]
        }
      ]
    },
    {
      "cell_type": "code",
      "source": [
        "#if-else statements:- when we are given with conditions like\n",
        "#condi 1: perform through 1st path otherwise (sun is rising print Day)\n",
        "#condi 2 : perform through another path (otherwise sun is setting print evening)\n",
        "age = 18\n",
        "if age >=18:\n",
        "    print(\"you are an adult\")\n",
        "    print(\"you can vote\")\n",
        "else:\n",
        "    print(\"you are not an adult\")\n",
        "    print(\"you cannot vote\")\n",
        "print(\"Thank You!\")\n",
        "\n",
        "age = 16\n",
        "if age >=18:\n",
        "    print(\"you are an adult\")\n",
        "    print(\"you can vote\")\n",
        "print(\"Thank You!\")\n",
        "\n",
        "age = 16\n",
        "if age >=18:\n",
        "    print(\"you are an adult\")\n",
        "    print(\"you can vote\")\n",
        "else:\n",
        "    print(\"you are not an adult\")\n",
        "    print(\"you cannot vote\")\n",
        "print(\"Thank You!\")\n",
        "\n",
        "age = 16\n",
        "if age >=18:\n",
        "    print(\"you are an adult\")\n",
        "    print(\"you can vote\")\n",
        "elif age < 18 and age > 3:\n",
        "    print(\"you are in school\")\n",
        "else:\n",
        "    print(\"you are a child\")\n",
        "    print(\"you cannot vote\")\n",
        "print(\"Thank You!\")\n",
        "\n",
        "age = 2\n",
        "if age >=18:\n",
        "    print(\"you are an adult\")\n",
        "    print(\"you can vote\")\n",
        "elif age < 18 and age > 3:\n",
        "    print(\"you are in school\")\n",
        "else:\n",
        "    print(\"you are a child\")\n",
        "    print(\"you cannot vote\")\n",
        "print(\"Thank You!\")"
      ],
      "metadata": {
        "colab": {
          "base_uri": "https://localhost:8080/"
        },
        "id": "-57leIalCI4D",
        "outputId": "14a71b79-4c4f-4d1a-c0d6-3ad9266eb3ef"
      },
      "execution_count": null,
      "outputs": [
        {
          "output_type": "stream",
          "name": "stdout",
          "text": [
            "you are an adult\n",
            "you can vote\n",
            "Thank You!\n",
            "Thank You!\n",
            "you are not an adult\n",
            "you cannot vote\n",
            "Thank You!\n",
            "you are in school\n",
            "Thank You!\n",
            "you are a child\n",
            "you cannot vote\n",
            "Thank You!\n"
          ]
        }
      ]
    },
    {
      "cell_type": "code",
      "source": [
        "#calculator\n",
        "first = input(\"enter first number:\")\n",
        "operator = input(\"enter operator (+,-,*,/,%)\")\n",
        "second = input(\"enter second number:\")\n",
        "\n",
        "\n",
        "first = int(first)\n",
        "second = int (second)\n",
        "\n",
        "if operator == \"+\":\n",
        "   print(int(first) + int(second))\n",
        "if operator == \"-\":\n",
        "   print(int(first) - int(second))\n",
        "if operator == \"*\":\n",
        "   print(int(first) * int(second))\n",
        "if operator == \"/\":\n",
        "   print(int(first) / int(second))\n",
        "if operator == \"%\":\n",
        "   print(int(first) % int(second))\n",
        "if operator == \"+\":\n",
        "   print(int(first) + int(second))\n",
        "elif operator == \"-\":\n",
        "   print(int(first) - int(second))\n",
        "elif operator == \"*\":\n",
        "   print(int(first) * int(second))\n",
        "elif operator == \"/\":\n",
        "   print(int(first) / int(second))\n",
        "elif operator == \"%\":\n",
        "   print(int(first) % int(second))\n",
        "\n",
        "else:\n",
        "    print(\"INVALID OPERATION!\")\n",
        "\n"
      ],
      "metadata": {
        "colab": {
          "base_uri": "https://localhost:8080/"
        },
        "id": "5JOI-p70ERU5",
        "outputId": "68601de0-1b46-4b39-b8a2-1c487c118f29"
      },
      "execution_count": null,
      "outputs": [
        {
          "output_type": "stream",
          "name": "stdout",
          "text": [
            "enter first number:5\n",
            "enter operator (+,-,*,/,%)/\n",
            "enter second number:2\n",
            "2.5\n",
            "2.5\n"
          ]
        }
      ]
    },
    {
      "cell_type": "code",
      "source": [
        " #range\n",
        " numbers = range(5) # 0,1,2,3,4\n",
        " print(numbers)"
      ],
      "metadata": {
        "colab": {
          "base_uri": "https://localhost:8080/"
        },
        "id": "Bfp-ZM49I8Yy",
        "outputId": "611ee0b3-fc83-4ef2-f1e1-3b975074c49a"
      },
      "execution_count": null,
      "outputs": [
        {
          "output_type": "stream",
          "name": "stdout",
          "text": [
            "range(0, 5)\n"
          ]
        }
      ]
    },
    {
      "cell_type": "code",
      "source": [
        "#loop #1 WHILE LOOP\n",
        "print(1)\n",
        "print(2)\n",
        "print(3)\n",
        "print(4)\n",
        "print(5)\n",
        "\n",
        "#while loop\n",
        "#we provide a particular condition up until the statement or condition provided is true the work will be done\n",
        "#the moment the condition is false the work will stop\n",
        "i = 1\n",
        "while i<= 5:\n",
        "  print(i)\n",
        "  i= i + 1\n",
        "\n",
        "i = 1\n",
        "while i <=10:\n",
        "  print(i)\n",
        "  i = i + 1\n",
        "\n",
        "i = 1\n",
        "while i <=10:\n",
        "  print(i * \"*\")\n",
        "  i = i + 1\n",
        "\n",
        "i = 1\n",
        "while i <=5:\n",
        "  print(i * \"REINE\")\n",
        "  i = i + 1\n",
        "i = 5\n",
        "while i >=0:\n",
        "  print(i * \"*\")\n",
        "  i = i - 1\n",
        "\n"
      ],
      "metadata": {
        "colab": {
          "base_uri": "https://localhost:8080/"
        },
        "id": "Yx2CaxurJ1eZ",
        "outputId": "85e4ef1e-761a-4a5b-af21-dd460b19d605"
      },
      "execution_count": null,
      "outputs": [
        {
          "output_type": "stream",
          "name": "stdout",
          "text": [
            "1\n",
            "2\n",
            "3\n",
            "4\n",
            "5\n",
            "1\n",
            "2\n",
            "3\n",
            "4\n",
            "5\n",
            "1\n",
            "2\n",
            "3\n",
            "4\n",
            "5\n",
            "6\n",
            "7\n",
            "8\n",
            "9\n",
            "10\n",
            "*\n",
            "**\n",
            "***\n",
            "****\n",
            "*****\n",
            "******\n",
            "*******\n",
            "********\n",
            "*********\n",
            "**********\n",
            "REINE\n",
            "REINEREINE\n",
            "REINEREINEREINE\n",
            "REINEREINEREINEREINE\n",
            "REINEREINEREINEREINEREINE\n",
            "*****\n",
            "****\n",
            "***\n",
            "**\n",
            "*\n",
            "\n"
          ]
        }
      ]
    },
    {
      "cell_type": "code",
      "source": [
        "#FOR LOOP\n",
        "for i in range(5):\n",
        "    print(i)\n",
        "\n",
        "for item in range(5):\n",
        "    print(item)\n",
        "\n",
        "for item in range(5):\n",
        "    print(item + 1)"
      ],
      "metadata": {
        "colab": {
          "base_uri": "https://localhost:8080/"
        },
        "id": "EAT3sJooMJYm",
        "outputId": "2438df0f-dfb6-48f0-c0ae-1bd94c4ba7ac"
      },
      "execution_count": null,
      "outputs": [
        {
          "output_type": "stream",
          "name": "stdout",
          "text": [
            "0\n",
            "1\n",
            "2\n",
            "3\n",
            "4\n",
            "0\n",
            "1\n",
            "2\n",
            "3\n",
            "4\n",
            "1\n",
            "2\n",
            "3\n",
            "4\n",
            "5\n"
          ]
        }
      ]
    },
    {
      "cell_type": "code",
      "source": [
        "#LIST :- COLLECTION OF ITEMS\n",
        "marks =[95, 99, 98]\n",
        "print(marks)\n",
        "marks =[95, 99, 98]\n",
        "print(marks[0])\n",
        "print(marks[1])\n",
        "print(marks[-1])\n",
        "print(marks[-3])\n",
        "print(marks[-2])\n",
        "print(marks[0:2])\n",
        "print(marks[1:3])\n",
        "\n",
        "marks =[95, 99, 98]\n",
        "for score in marks:\n",
        "  print(score)\n",
        "\n",
        "marks =[95,\"Math\",99,\"Science\",98,\"English\"]\n",
        "for score in marks:\n",
        "  print(score)\n",
        "\n",
        "\n"
      ],
      "metadata": {
        "colab": {
          "base_uri": "https://localhost:8080/"
        },
        "id": "M-GP4VxANa8A",
        "outputId": "c0c2e1f7-d83d-4a42-f3bf-5253e1b43b54"
      },
      "execution_count": null,
      "outputs": [
        {
          "output_type": "stream",
          "name": "stdout",
          "text": [
            "[95, 99, 98]\n",
            "95\n",
            "99\n",
            "98\n",
            "95\n",
            "99\n",
            "[95, 99]\n",
            "[99, 98]\n",
            "95\n",
            "99\n",
            "98\n",
            "95\n",
            "Math\n",
            "99\n",
            "Science\n",
            "98\n",
            "English\n"
          ]
        }
      ]
    },
    {
      "cell_type": "code",
      "source": [
        "#operations on list\n",
        "#append operation (append means to join)\n",
        "marks =[95, 99, 98]\n",
        "marks.append(99)\n",
        "print(marks)\n",
        "marks =[95, 99, 98]\n",
        "marks.insert(0,99)\n",
        "print(marks)\n",
        "marks =[95, 99, 98]\n",
        "marks.insert(0,99)\n",
        "print(99 in marks)\n",
        "marks =[95, 99, 98]\n",
        "marks.insert(0,99)\n",
        "print(93 in marks)\n",
        "marks =[95, 99, 98]\n",
        "marks.insert(0,99)\n",
        "print(len(marks))\n",
        "marks =[95, 99, 98]\n",
        "print(len(marks))"
      ],
      "metadata": {
        "colab": {
          "base_uri": "https://localhost:8080/"
        },
        "id": "D7d9i4lNSToO",
        "outputId": "43c3de7c-953f-4b18-eda6-e5749d9a7f96"
      },
      "execution_count": null,
      "outputs": [
        {
          "output_type": "stream",
          "name": "stdout",
          "text": [
            "[95, 99, 98, 99]\n",
            "[99, 95, 99, 98]\n",
            "True\n",
            "False\n",
            "4\n",
            "3\n"
          ]
        }
      ]
    },
    {
      "cell_type": "code",
      "source": [
        "#in previous one we used for loop for iteration over marks\n",
        "#now we will use while loop\n",
        "\n",
        "marks = [95,98,97]\n",
        "\n",
        "i = 0\n",
        "while i < len(marks):\n",
        "  print(marks[i])\n",
        "  i = i + 1\n",
        "\n",
        "marks.clear #clear clearsout the entire list\n",
        "print(marks)\n",
        "\n"
      ],
      "metadata": {
        "colab": {
          "base_uri": "https://localhost:8080/"
        },
        "id": "Dv3H7YoSKmQs",
        "outputId": "cc11b990-466b-4799-baab-321516218507"
      },
      "execution_count": null,
      "outputs": [
        {
          "output_type": "stream",
          "name": "stdout",
          "text": [
            "95\n",
            "98\n",
            "97\n",
            "[95, 98, 97]\n"
          ]
        }
      ]
    },
    {
      "cell_type": "code",
      "source": [
        "#break and continue\n",
        "\n",
        "students = [\"RM\", \"JIN\" , \"SUGA\" , \"JHOPE\",\"JIMIN\",\"TAEHYUNG\",\"JUNGKOOK\",\"ARMY\"]\n",
        "for student in students:\n",
        "  if student == \"JUNGKOOK\":\n",
        "    break; #semicolon is optional in python\n",
        "  print(student)\n",
        "\n",
        "\n",
        "\n",
        "students = [\"RM\", \"JIN\" , \"SUGA\" , \"JHOPE\",\"JIMIN\",\"TAEHYUNG\",\"JUNGKOOK\",\"ARMY\"]\n",
        "for student in students:\n",
        "  if student == \"ARMY\":\n",
        "    break; #semicolon is optional in python\n",
        "  print(student)\n",
        "\n",
        "\n",
        "\n",
        "\n",
        "students = [\"RM\", \"JIN\" , \"SUGA\" , \"JHOPE\",\"JIMIN\",\"TAEHYUNG\",\"JUNGKOOK\",\"ARMY\"]\n",
        "for student in students:\n",
        "  if student == \"JHOPE\":\n",
        "    continue; #semicolon is optional in python\n",
        "  print(student)\n",
        "\n",
        "#DON'T COME AFTER ME! BORAFAMILY... I'M JUST LEARNING TO CODE...\n",
        "\n",
        "students = [\"RM\", \"JIN\" , \"SUGA\" ,\"ARMY\", \"JHOPE\",\"JIMIN\",\"TAEHYUNG\",\"JUNGKOOK\"]\n",
        "for student in students:\n",
        "  if student == \"ARMY\":\n",
        "    continue; #semicolon is optional in python\n",
        "  print(student)\n",
        "\n",
        "\n",
        "\n"
      ],
      "metadata": {
        "id": "HXpRaYG_LqzE",
        "colab": {
          "base_uri": "https://localhost:8080/"
        },
        "outputId": "35c72bee-d474-49f1-e8c7-9432eb218e0a"
      },
      "execution_count": 115,
      "outputs": [
        {
          "output_type": "stream",
          "name": "stdout",
          "text": [
            "RM\n",
            "JIN\n",
            "SUGA\n",
            "JHOPE\n",
            "JIMIN\n",
            "TAEHYUNG\n",
            "RM\n",
            "JIN\n",
            "SUGA\n",
            "JHOPE\n",
            "JIMIN\n",
            "TAEHYUNG\n",
            "JUNGKOOK\n",
            "RM\n",
            "JIN\n",
            "SUGA\n",
            "JIMIN\n",
            "TAEHYUNG\n",
            "JUNGKOOK\n",
            "ARMY\n",
            "RM\n",
            "JIN\n",
            "SUGA\n",
            "JHOPE\n",
            "JIMIN\n",
            "TAEHYUNG\n",
            "JUNGKOOK\n"
          ]
        }
      ]
    },
    {
      "cell_type": "code",
      "source": [
        "#TUPLE samelike list but immutable ,i.e., once you created a tuple you cannot change\n",
        "marks = (95,98,97, 97,97)\n",
        "print(marks.count(97))\n",
        "\n",
        "\n",
        "marks = (95,98,97, 97,97)\n",
        "print(marks.count(95))\n",
        "print(marks.index(97))\n",
        "\n",
        "person = \"jimin\" , \"taehyung\" , \"jungkook\"\n",
        "#in tuple parentheses are not compulsory but just to make the code look good we use them\n",
        "print (person)\n",
        "\n",
        "person = \"jimin\" , \"taehyung\" , \"jungkook\"\n",
        "print (person)\n",
        "print(person[0])\n",
        "print(person[1])\n",
        "print(person[2])"
      ],
      "metadata": {
        "colab": {
          "base_uri": "https://localhost:8080/"
        },
        "id": "pJE_8WelNZd8",
        "outputId": "b989eb35-807a-4c36-c4e2-876c5c46a0d6"
      },
      "execution_count": 119,
      "outputs": [
        {
          "output_type": "stream",
          "name": "stdout",
          "text": [
            "3\n",
            "1\n",
            "2\n",
            "('jimin', 'taehyung', 'jungkook')\n",
            "('jimin', 'taehyung', 'jungkook')\n",
            "jimin\n",
            "taehyung\n",
            "jungkook\n"
          ]
        }
      ]
    },
    {
      "cell_type": "code",
      "source": [
        "#SET many elements are given and we have to store them but only unique elements are to be kept not the duplicates ones\n",
        "marks = {95,98,97, 97,97}\n",
        "for score in marks:\n",
        "  print(score)\n",
        "#since in sets we dont have index thereforwe, it is called unordered\n"
      ],
      "metadata": {
        "colab": {
          "base_uri": "https://localhost:8080/"
        },
        "id": "xGmMZj6rQ5wx",
        "outputId": "36b36427-be0a-46f1-d5df-7c99d4b6d5cf"
      },
      "execution_count": 121,
      "outputs": [
        {
          "output_type": "stream",
          "name": "stdout",
          "text": [
            "97\n",
            "98\n",
            "95\n"
          ]
        }
      ]
    },
    {
      "cell_type": "code",
      "source": [
        "#untnil ow\n",
        "#[] - list\n",
        "#{} - set\n",
        "#() - tuple"
      ],
      "metadata": {
        "id": "o3dtD3axRZLv"
      },
      "execution_count": null,
      "outputs": []
    },
    {
      "cell_type": "code",
      "source": [
        "#dictonary :- in this we store key value pair\n",
        " #fro ex storing information of children with thier parent (key amd value when stored in two pairs, they are stored in dictonary)\n",
        "\n",
        "marks = {\"english\" : 95, \"chemistry\" : 98}\n",
        "print(marks[\"chemistry\"])\n",
        "print(marks[\"english\"])\n",
        "marks[\"physics\"] = 99\n",
        "print(marks)\n",
        "\n",
        "marks[\"english\"] = 99\n",
        "print(marks)"
      ],
      "metadata": {
        "colab": {
          "base_uri": "https://localhost:8080/"
        },
        "id": "ajSUupeATDqv",
        "outputId": "93581834-6e13-4996-ad5c-307de4771afd"
      },
      "execution_count": 130,
      "outputs": [
        {
          "output_type": "stream",
          "name": "stdout",
          "text": [
            "98\n",
            "95\n",
            "{'english': 95, 'chemistry': 98, 'physics': 99}\n",
            "{'english': 99, 'chemistry': 98, 'physics': 99}\n"
          ]
        }
      ]
    },
    {
      "cell_type": "code",
      "source": [
        "#functions\n",
        "#1. in-built functions\n",
        "#2.MOdule FUnctions\n",
        "#3. User-Defined Functions\n",
        "\n",
        "#in python there sre different parts each part performs an operation and if this part performs only a specific operation then we name it as a function\n",
        "\n",
        "#inbuilt fun:- these functions already exists in python and we can use them directly\n",
        "# int()\n",
        "# str()\n",
        "# bool ()\n",
        "\n",
        "# module function:- when related functions and related variables are stored together in one file it is c/a module function\n",
        "#import math\n",
        "\n",
        "import math\n",
        "print(dir(math))\n",
        "\n",
        "from math import sqrt #sqrt gives / return square root of any number\n",
        "print(sqrt(49))\n",
        "\n",
        "from math import * #* is selecting all the functions available in math\n",
        "print(sqrt(49))\n",
        "\n",
        "#user-defined function\n",
        "#synatx is def function_name(parameters):\n",
        "     #//do something\n",
        "\n",
        "def print_sum(first, second):\n",
        "    print(first + second)\n",
        "\n",
        "print_sum(7, 7)\n",
        "\n",
        "\n",
        "def print_sum(first, second=5):\n",
        "    print(first + second)\n",
        "\n",
        "print_sum(2)\n"
      ],
      "metadata": {
        "colab": {
          "base_uri": "https://localhost:8080/"
        },
        "id": "IwrSwF9do8sy",
        "outputId": "ddc77221-3e36-42bf-e8c8-ac6b94730386"
      },
      "execution_count": 136,
      "outputs": [
        {
          "output_type": "stream",
          "name": "stdout",
          "text": [
            "['__doc__', '__loader__', '__name__', '__package__', '__spec__', 'acos', 'acosh', 'asin', 'asinh', 'atan', 'atan2', 'atanh', 'ceil', 'comb', 'copysign', 'cos', 'cosh', 'degrees', 'dist', 'e', 'erf', 'erfc', 'exp', 'expm1', 'fabs', 'factorial', 'floor', 'fmod', 'frexp', 'fsum', 'gamma', 'gcd', 'hypot', 'inf', 'isclose', 'isfinite', 'isinf', 'isnan', 'isqrt', 'lcm', 'ldexp', 'lgamma', 'log', 'log10', 'log1p', 'log2', 'modf', 'nan', 'nextafter', 'perm', 'pi', 'pow', 'prod', 'radians', 'remainder', 'sin', 'sinh', 'sqrt', 'tan', 'tanh', 'tau', 'trunc', 'ulp']\n",
            "7.0\n",
            "7.0\n",
            "14\n",
            "7\n"
          ]
        }
      ]
    }
  ]
}